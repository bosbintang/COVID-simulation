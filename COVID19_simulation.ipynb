{
  "nbformat": 4,
  "nbformat_minor": 0,
  "metadata": {
    "colab": {
      "provenance": [],
      "authorship_tag": "ABX9TyM7e/8F3uVaIGpRs8wxEh5l",
      "include_colab_link": true
    },
    "kernelspec": {
      "name": "python3",
      "display_name": "Python 3"
    }
  },
  "cells": [
    {
      "cell_type": "markdown",
      "metadata": {
        "id": "view-in-github",
        "colab_type": "text"
      },
      "source": [
        "<a href=\"https://colab.research.google.com/github/bosbintang/COVID-simulation/blob/main/COVID19_simulation.ipynb\" target=\"_parent\"><img src=\"https://colab.research.google.com/assets/colab-badge.svg\" alt=\"Open In Colab\"/></a>"
      ]
    },
    {
      "cell_type": "code",
      "metadata": {
        "id": "HBoDkbM7Qmhe",
        "colab": {
          "base_uri": "https://localhost:8080/",
          "height": 222
        },
        "outputId": "30c9f225-1676-4157-bb05-8e852ca0fc76"
      },
      "source": [
        "import numpy as np\n",
        "import matplotlib.pyplot as plt\n",
        "\n",
        "GDP=500000000\n",
        "\n",
        "n=10\n",
        "gdp=np.zeros((n+1,1))\n",
        "r=np.zeros((n+1,1))\n",
        "u=np.zeros((n+1,1))\n",
        "U=np.zeros((n+1,1))\n",
        "a=np.zeros((n+1,1))\n",
        "for i in range(n+1):\n",
        "  a[i]=(i/n)\n",
        "  t=100\n",
        "  gdp[i]=((GDP/365)*(a[i])*t)+((GDP/365)*1*(365-t))\n",
        "  r[i]=((gdp[i]-GDP)/GDP)*100\n",
        "  u[i]=((-0.1078*(r[i]))-0.0803)\n",
        "  U[i]=2.29+(u[i])\n",
        "\n",
        "  print('alpha:',i/n,'|GDP reduction: ',r[i],'  |unemployment difference: ',u[i],' |Unemployment rate:',U[i])\n"
      ],
      "execution_count": null,
      "outputs": [
        {
          "output_type": "stream",
          "text": [
            "alpha: 0.0 |GDP reduction:  [-27.39726027]   |unemployment difference:  [2.87312466]  |Unemployment rate: [5.16312466]\n",
            "alpha: 0.1 |GDP reduction:  [-24.65753425]   |unemployment difference:  [2.57778219]  |Unemployment rate: [4.86778219]\n",
            "alpha: 0.2 |GDP reduction:  [-21.91780822]   |unemployment difference:  [2.28243973]  |Unemployment rate: [4.57243973]\n",
            "alpha: 0.3 |GDP reduction:  [-19.17808219]   |unemployment difference:  [1.98709726]  |Unemployment rate: [4.27709726]\n",
            "alpha: 0.4 |GDP reduction:  [-16.43835616]   |unemployment difference:  [1.69175479]  |Unemployment rate: [3.98175479]\n",
            "alpha: 0.5 |GDP reduction:  [-13.69863014]   |unemployment difference:  [1.39641233]  |Unemployment rate: [3.68641233]\n",
            "alpha: 0.6 |GDP reduction:  [-10.95890411]   |unemployment difference:  [1.10106986]  |Unemployment rate: [3.39106986]\n",
            "alpha: 0.7 |GDP reduction:  [-8.21917808]   |unemployment difference:  [0.8057274]  |Unemployment rate: [3.0957274]\n",
            "alpha: 0.8 |GDP reduction:  [-5.47945205]   |unemployment difference:  [0.51038493]  |Unemployment rate: [2.80038493]\n",
            "alpha: 0.9 |GDP reduction:  [-2.73972603]   |unemployment difference:  [0.21504247]  |Unemployment rate: [2.50504247]\n",
            "alpha: 1.0 |GDP reduction:  [0.]   |unemployment difference:  [-0.0803]  |Unemployment rate: [2.2097]\n"
          ],
          "name": "stdout"
        }
      ]
    },
    {
      "cell_type": "code",
      "metadata": {
        "id": "HbClKPYJqLUN",
        "colab": {
          "base_uri": "https://localhost:8080/",
          "height": 195
        },
        "outputId": "e7d94835-cec6-4a2a-e846-e7911a380e77"
      },
      "source": [
        "plt.plot(a,U)\n",
        "plt.xlabel('Lockdown rate  ')\n",
        "plt.ylabel('Unemployment rate (in percent)')"
      ],
      "execution_count": null,
      "outputs": [
        {
          "output_type": "error",
          "ename": "NameError",
          "evalue": "ignored",
          "traceback": [
            "\u001b[0;31m---------------------------------------------------------------------------\u001b[0m",
            "\u001b[0;31mNameError\u001b[0m                                 Traceback (most recent call last)",
            "\u001b[0;32m<ipython-input-1-66e9a2f12b8e>\u001b[0m in \u001b[0;36m<module>\u001b[0;34m()\u001b[0m\n\u001b[0;32m----> 1\u001b[0;31m \u001b[0mplt\u001b[0m\u001b[0;34m.\u001b[0m\u001b[0mplot\u001b[0m\u001b[0;34m(\u001b[0m\u001b[0ma\u001b[0m\u001b[0;34m,\u001b[0m\u001b[0mU\u001b[0m\u001b[0;34m)\u001b[0m\u001b[0;34m\u001b[0m\u001b[0;34m\u001b[0m\u001b[0m\n\u001b[0m\u001b[1;32m      2\u001b[0m \u001b[0mplt\u001b[0m\u001b[0;34m.\u001b[0m\u001b[0mxlabel\u001b[0m\u001b[0;34m(\u001b[0m\u001b[0;34m'Lockdown rate  '\u001b[0m\u001b[0;34m)\u001b[0m\u001b[0;34m\u001b[0m\u001b[0;34m\u001b[0m\u001b[0m\n\u001b[1;32m      3\u001b[0m \u001b[0mplt\u001b[0m\u001b[0;34m.\u001b[0m\u001b[0mylabel\u001b[0m\u001b[0;34m(\u001b[0m\u001b[0;34m'Unemployment rate (in percent)'\u001b[0m\u001b[0;34m)\u001b[0m\u001b[0;34m\u001b[0m\u001b[0;34m\u001b[0m\u001b[0m\n",
            "\u001b[0;31mNameError\u001b[0m: name 'plt' is not defined"
          ]
        }
      ]
    },
    {
      "cell_type": "code",
      "metadata": {
        "id": "nIYtCNRxr-EN",
        "colab": {
          "base_uri": "https://localhost:8080/",
          "height": 481
        },
        "outputId": "4da68ed3-327e-46db-9f0a-9f03fd7bc6ff"
      },
      "source": [
        "y=np.zeros((n+1,1))\n",
        "for i in range(n+1):\n",
        "  y[i]=(1949*U[i])+14345\n",
        "  print(i/n,U[i],y[i])\n",
        "plt.plot(U,y)\n",
        "\n",
        "plt.xlabel('Unemployment rate (in percent)')\n",
        "plt.ylabel('Suicide rate')"
      ],
      "execution_count": null,
      "outputs": [
        {
          "output_type": "stream",
          "text": [
            "0.0 [5.16312466] [24407.92995753]\n",
            "0.1 [4.86778219] [23832.30749178]\n",
            "0.2 [4.57243973] [23256.68502603]\n",
            "0.3 [4.27709726] [22681.06256027]\n",
            "0.4 [3.98175479] [22105.44009452]\n",
            "0.5 [3.68641233] [21529.81762877]\n",
            "0.6 [3.39106986] [20954.19516301]\n",
            "0.7 [3.0957274] [20378.57269726]\n",
            "0.8 [2.80038493] [19802.95023151]\n",
            "0.9 [2.50504247] [19227.32776575]\n",
            "1.0 [2.2097] [18651.7053]\n"
          ],
          "name": "stdout"
        },
        {
          "output_type": "execute_result",
          "data": {
            "text/plain": [
              "Text(0, 0.5, 'Suicide rate')"
            ]
          },
          "metadata": {
            "tags": []
          },
          "execution_count": 21
        },
        {
          "output_type": "display_data",
          "data": {
            "image/png": "[encoded data removed]",
            "text/plain": [
              "<Figure size 432x288 with 1 Axes>"
            ]
          },
          "metadata": {
            "tags": [],
            "needs_background": "light"
          }
        }
      ]
    },
    {
      "cell_type": "code",
      "metadata": {
        "id": "N1KClaPYAm9p",
        "colab": {
          "base_uri": "https://localhost:8080/",
          "height": 269
        },
        "outputId": "26c010a7-74bd-4516-f11c-384e23b990e4"
      },
      "source": [
        "GDP=500000000\n",
        "a=0.25\n",
        "\n",
        "t=20\n",
        "for i in range(5):\n",
        "  gdp=((GDP/365)*(a)*(i+1)*t)+((GDP/365)*(1)*(365-((i+1)*t)))\n",
        "  print('N:',(i+1)*t)\n",
        "  r=((gdp-GDP)/GDP)*100\n",
        "  \n",
        "  u=(-0.1078*(r))-0.0803\n",
        "  U=2.29+u\n",
        "  print('unemployment:',U)\n",
        "  y=(1949*U)+14345\n",
        "  print('suicide:',y)"
      ],
      "execution_count": null,
      "outputs": [
        {
          "output_type": "stream",
          "text": [
            "N: 20\n",
            "unemployment: 2.652713698630138\n",
            "suicide: 19515.13899863014\n",
            "N: 40\n",
            "unemployment: 3.095727397260275\n",
            "suicide: 20378.572697260275\n",
            "N: 60\n",
            "unemployment: 3.538741095890412\n",
            "suicide: 21242.006395890414\n",
            "N: 80\n",
            "unemployment: 3.98175479452055\n",
            "suicide: 22105.440094520553\n",
            "N: 100\n",
            "unemployment: 4.424768493150685\n",
            "suicide: 22968.873793150684\n"
          ],
          "name": "stdout"
        }
      ]
    },
    {
      "cell_type": "code",
      "metadata": {
        "id": "tanAhJfxCPss",
        "colab": {
          "base_uri": "https://localhost:8080/",
          "height": 34
        },
        "outputId": "2c6dce0d-5461-4ffa-c5b1-8fd65b82ff73"
      },
      "source": [
        "(1949*0.0803)+14345"
      ],
      "execution_count": null,
      "outputs": [
        {
          "output_type": "execute_result",
          "data": {
            "text/plain": [
              "14501.5047"
            ]
          },
          "metadata": {
            "tags": []
          },
          "execution_count": 18
        }
      ]
    },
    {
      "cell_type": "code",
      "metadata": {
        "id": "Yw5Ht9KpG8Vt",
        "colab": {
          "base_uri": "https://localhost:8080/",
          "height": 290
        },
        "outputId": "c4292733-04f5-451a-d6dc-024400bdd031"
      },
      "source": [
        "import numpy as np\n",
        "import matplotlib.pyplot as plt\n",
        "\n",
        "m_S=126500000\n",
        "m_I=6\n",
        "m_R=11\n",
        "m_N=m_S+m_I+m_R\n",
        "\n",
        "y=1./7.\n",
        "n=150\n",
        "\n",
        "m_St=np.zeros((n,1))\n",
        "m_It=np.zeros((n,1))\n",
        "m_Rt=np.zeros((n,1))\n",
        "A=np.zeros((10,1))\n",
        "health_cap=np.linspace(3000,3000,100)\n",
        "fig,ax=plt.subplots()\n",
        "for i in range(40): \n",
        "    a=0.6\n",
        "    b=1  \n",
        "    m_St[i]=m_S-((a*b/m_N)*m_S*m_I)\n",
        "    m_It[i]=m_I+((a*b/m_N)*m_S*m_I)-(y*m_I)\n",
        "    m_Rt[i]=m_R+(y*m_I)\n",
        "    m_S=m_St[i]\n",
        "    m_I=m_It[i]\n",
        "    m_R=m_Rt[i]\n",
        "for i in range(40,n):\n",
        "    a=1\n",
        "    b=0.6   \n",
        "    m_St[i]=m_S-((a*b/m_N)*m_S*m_I)\n",
        "    m_It[i]=m_I+((a*b/m_N)*m_S*m_I)-(y*m_I)\n",
        "    m_Rt[i]=m_R+(y*m_I)\n",
        "    m_S=m_St[i]\n",
        "    m_I=m_It[i]\n",
        "    m_R=m_Rt[i]\n",
        "    \n",
        "plt.xlabel('Days')\n",
        "#ax.plot(m_St,label='S(t)')\n",
        "ax.plot(m_It,label='I(t)')\n",
        "ax.plot(m_Rt,label='R(t)')\n",
        "leg=ax.legend()"
      ],
      "execution_count": null,
      "outputs": [
        {
          "output_type": "display_data",
          "data": {
            "image/png": "[encoded data removed]",
            "text/plain": [
              "<Figure size 432x288 with 1 Axes>"
            ]
          },
          "metadata": {
            "tags": [],
            "needs_background": "light"
          }
        }
      ]
    },
    {
      "cell_type": "code",
      "metadata": {
        "id": "CtKj3oW6lboV",
        "colab": {
          "base_uri": "https://localhost:8080/",
          "height": 282
        },
        "outputId": "62282c4f-f9ae-47ac-8b02-7d00e729bcc1"
      },
      "source": [
        "import numpy as np\n",
        "import matplotlib.pyplot as plt\n",
        "\n",
        "m_S=126500000\n",
        "m_I=7\n",
        "m_R=0\n",
        "m_N=m_S+m_I+m_R\n",
        "b=0.3\n",
        "\n",
        "y=1./21.\n",
        "n=100\n",
        "\n",
        "m_St=np.zeros((n,1))\n",
        "m_It=np.zeros((n,1))\n",
        "m_Rt=np.zeros((n,1))\n",
        "A=np.zeros((10,1))\n",
        "health_cap=np.linspace(3000,3000,100)\n",
        "\n",
        "for i in range(0,10):\n",
        "  a=1   \n",
        "  m_St[i]=m_S-((a*b/m_N)*m_S*m_I)\n",
        "  m_It[i]=m_I+((a*b/m_N)*m_S*m_I)-(y*m_I)\n",
        "  m_Rt[i]=m_R+(y*m_I)\n",
        "  m_S=m_St[i]\n",
        "  m_I=m_It[i]\n",
        "  m_R=m_Rt[i]\n",
        "for i in range(10,20):\n",
        "  a=0.5   \n",
        "  m_St[i]=m_S-((a*b/m_N)*m_S*m_I)\n",
        "  m_It[i]=m_I+((a*b/m_N)*m_S*m_I)-(y*m_I)\n",
        "  m_Rt[i]=m_R+(y*m_I)\n",
        "  m_S=m_St[i]\n",
        "  m_I=m_It[i]\n",
        "  m_R=m_Rt[i]\n",
        "for i in range(20,30):\n",
        "  a=0.25    \n",
        "  m_St[i]=m_S-((a*b/m_N)*m_S*m_I)\n",
        "  m_It[i]=m_I+((a*b/m_N)*m_S*m_I)-(y*m_I)\n",
        "  m_Rt[i]=m_R+(y*m_I)\n",
        "  m_S=m_St[i]\n",
        "  m_I=m_It[i]\n",
        "  m_R=m_Rt[i]\n",
        "for i in range(30,40):\n",
        "  a=0.125    \n",
        "  m_St[i]=m_S-((a*b/m_N)*m_S*m_I)\n",
        "  m_It[i]=m_I+((a*b/m_N)*m_S*m_I)-(y*m_I)\n",
        "  m_Rt[i]=m_R+(y*m_I)\n",
        "  m_S=m_St[i]\n",
        "  m_I=m_It[i]\n",
        "  m_R=m_Rt[i]\n",
        "\n",
        "\n",
        "\n",
        "\n",
        "plt.plot(m_Rt)\n",
        "plt.plot(m_It)\n",
        "#plt.plot(health_cap)"
      ],
      "execution_count": null,
      "outputs": [
        {
          "output_type": "execute_result",
          "data": {
            "text/plain": [
              "[<matplotlib.lines.Line2D at 0x7fdb6e17ec88>]"
            ]
          },
          "metadata": {
            "tags": []
          },
          "execution_count": 88
        },
        {
          "output_type": "display_data",
          "data": {
            "image/png": "[encoded data removed]",
            "text/plain": [
              "<Figure size 432x288 with 1 Axes>"
            ]
          },
          "metadata": {
            "tags": [],
            "needs_background": "light"
          }
        }
      ]
    },
    {
      "cell_type": "code",
      "metadata": {
        "id": "L8lSe4zADvaF",
        "colab": {
          "base_uri": "https://localhost:8080/",
          "height": 447
        },
        "outputId": "be9f6331-480d-4344-f55d-337b148dfa57"
      },
      "source": [
        "import numpy as np\n",
        "import matplotlib.pyplot as plt\n",
        "\n",
        "m_S=50000\n",
        "m_I=1000\n",
        "m_R=20\n",
        "m_N=m_S+m_I+m_R\n",
        "b=0.2\n",
        "a=1\n",
        "y=0.03\n",
        "\n",
        "n=150\n",
        "I=np.zeros((n,1))\n",
        "J=np.zeros((5,1))\n",
        "m_St=np.zeros((n,1))\n",
        "m_It=np.zeros((n,1))\n",
        "m_Rt=np.zeros((n,1))\n",
        "h=np.linspace(10000,10000,150)\n",
        "fig,ax=plt.subplots()\n",
        "T=20\n",
        "for k in range(5):\n",
        "  t=(k+1)*T\n",
        "  print(t)\n",
        "  for i in range(t):\n",
        "      m_St[i]=m_S-((a*b/m_N)*m_S*m_I)\n",
        "      m_It[i]=m_I+((a*b/m_N)*m_S*m_I)-(y*m_I)\n",
        "      m_Rt[i]=m_R+(y*m_I)\n",
        "      m_S=m_St[i]\n",
        "      m_I=m_It[i]\n",
        "      m_R=m_Rt[i]\n",
        "  for i in range(t,n):\n",
        "      m_St[i]=m_S-((b/m_N)*m_S*m_I)\n",
        "      m_It[i]=m_I+((b/m_N)*m_S*m_I)-(y*m_I)\n",
        "      m_Rt[i]=m_R+(y*m_I)\n",
        "      m_S=m_St[i]\n",
        "      m_I=m_It[i]\n",
        "      m_R=m_Rt[i]\n",
        "\n",
        "  J[k]=0.03*m_R\n",
        "  print(J[k])\n",
        "plt.xlabel('Days')\n",
        "#ax.plot(h,label='health capacity')\n",
        "ax.plot(m_St, color='blue', label='S(t)')\n",
        "ax.plot(m_It, color='orange', label='I(t)')\n",
        "ax.plot(m_Rt, color='green', label='R(t)')\n",
        "leg=ax.legend()"
      ],
      "execution_count": null,
      "outputs": [
        {
          "output_type": "stream",
          "text": [
            "20\n",
            "[1492.33139234]\n",
            "40\n",
            "[1528.71263016]\n",
            "60\n",
            "[1529.10166936]\n",
            "80\n",
            "[1529.10582719]\n",
            "100\n",
            "[1529.10587162]\n"
          ],
          "name": "stdout"
        },
        {
          "output_type": "display_data",
          "data": {
            "image/png": "[encoded data removed]",
            "text/plain": [
              "<Figure size 432x288 with 1 Axes>"
            ]
          },
          "metadata": {
            "tags": [],
            "needs_background": "light"
          }
        }
      ]
    },
    {
      "cell_type": "code",
      "metadata": {
        "id": "t87b1JehESrR",
        "colab": {
          "base_uri": "https://localhost:8080/",
          "height": 324
        },
        "outputId": "fdc0c0ad-f7c7-4d84-b164-9a5374cad5ea"
      },
      "source": [
        "import numpy as np\n",
        "import matplotlib.pyplot as plt\n",
        "\n",
        "m_S=126500000\n",
        "m_I=126\n",
        "m_R=23\n",
        "m_N=m_S+m_I+m_R\n",
        "b=0.32\n",
        "a=1\n",
        "y=1./7.\n",
        "\n",
        "n=150\n",
        "I=np.zeros((n,1))\n",
        "m_St=np.zeros((n,1))\n",
        "m_It=np.zeros((n,1))\n",
        "m_Rt=np.zeros((n,1))\n",
        "h=np.linspace(10000,10000,150)\n",
        "fig,ax=plt.subplots()\n",
        "t=40\n",
        "\n",
        "for i in range(t):\n",
        "    m_St[i]=m_S-((a*b/m_N)*m_S*m_I)\n",
        "    m_It[i]=m_I+((a*b/m_N)*m_S*m_I)-(y*m_I)\n",
        "    m_Rt[i]=m_R+(y*m_I)\n",
        "    m_S=m_St[i]\n",
        "    m_I=m_It[i]\n",
        "    m_R=m_Rt[i]\n",
        "for i in range(t,n):\n",
        "    m_St[i]=m_S-((b/m_N)*m_S*m_I)\n",
        "    m_It[i]=m_I+((b/m_N)*m_S*m_I)-(y*m_I)\n",
        "    m_Rt[i]=m_R+(y*m_I)\n",
        "    m_S=m_St[i]\n",
        "    m_I=m_It[i]\n",
        "    m_R=m_Rt[i]\n",
        "\n",
        "J=0.03*m_R\n",
        "print(m_R)\n",
        "print(J)\n",
        "plt.xlabel('Days')\n",
        "#ax.plot(h,label='health capacity')\n",
        "ax.plot(m_St, color='blue', label='S(t)')\n",
        "ax.plot(m_It, color='orange', label='I(t)')\n",
        "ax.plot(m_Rt, color='green', label='R(t)')\n",
        "leg=ax.legend()"
      ],
      "execution_count": null,
      "outputs": [
        {
          "output_type": "stream",
          "text": [
            "[1.08743336e+08]\n",
            "[3262300.08480571]\n"
          ],
          "name": "stdout"
        },
        {
          "output_type": "display_data",
          "data": {
            "image/png": "[encoded data removed]",
            "text/plain": [
              "<Figure size 432x288 with 1 Axes>"
            ]
          },
          "metadata": {
            "tags": [],
            "needs_background": "light"
          }
        }
      ]
    },
    {
      "cell_type": "code",
      "metadata": {
        "id": "UXDZmTWuFizy",
        "colab": {
          "base_uri": "https://localhost:8080/",
          "height": 310
        },
        "outputId": "ad6797fd-63e2-45ef-d320-59183f2d0876"
      },
      "source": [
        "GDP=500000000\n",
        "m_S=126500000\n",
        "m_I=7\n",
        "m_R=0\n",
        "m_N=m_S+m_I+m_R\n",
        "b=0.3\n",
        "y=1./21.\n",
        "a=0.25\n",
        "n=300\n",
        "t=40\n",
        "I=np.zeros((n,1))\n",
        "m_St=np.zeros((n,1))\n",
        "m_It=np.zeros((n,1))\n",
        "m_Rt=np.zeros((n,1))\n",
        "\n",
        "gdp=(GDP/365)*a*t\n",
        "r=(gdp/GDP)\n",
        "u=-0.1078*r-0.0803\n",
        "Y=1949*(-u)+14345\n",
        "\n",
        "for i in range(50):\n",
        "    a=0.5\n",
        "    m_St[i]=m_S-((a*b/m_N)*m_S*m_I)\n",
        "    m_It[i]=m_I+((a*b/m_N)*m_S*m_I)-(y*m_I)\n",
        "    m_Rt[i]=m_R+(y*m_I)\n",
        "    m_S=m_St[i]\n",
        "    m_I=m_It[i]\n",
        "    m_R=m_Rt[i]\n",
        "for i in range(50,100):\n",
        "    a=0.25\n",
        "    m_St[i]=m_S-((a*b/m_N)*m_S*m_I)\n",
        "    m_It[i]=m_I+((a*b/m_N)*m_S*m_I)-(y*m_I)\n",
        "    m_Rt[i]=m_R+(y*m_I)\n",
        "    m_S=m_St[i]\n",
        "    m_I=m_It[i]\n",
        "    m_R=m_Rt[i]\n",
        "for i in range(100,n):\n",
        "    m_St[i]=m_S-((b/m_N)*m_S*m_I)\n",
        "    m_It[i]=m_I+((b/m_N)*m_S*m_I)-(y*m_I)\n",
        "    m_Rt[i]=m_R+(y*m_I)\n",
        "    m_S=m_St[i]\n",
        "    m_I=m_It[i]\n",
        "    m_R=m_Rt[i]\n",
        "\n",
        "J=0.03*max(m_It)+0.97*Y\n",
        "print(J)\n",
        "plt.plot(m_It)"
      ],
      "execution_count": null,
      "outputs": [
        {
          "output_type": "stream",
          "text": [
            "[2166558.26172363]\n"
          ],
          "name": "stdout"
        },
        {
          "output_type": "execute_result",
          "data": {
            "text/plain": [
              "[<matplotlib.lines.Line2D at 0x7fb738bff1d0>]"
            ]
          },
          "metadata": {
            "tags": []
          },
          "execution_count": 9
        },
        {
          "output_type": "display_data",
          "data": {
            "image/png": "[encoded data removed]",
            "text/plain": [
              "<Figure size 432x288 with 1 Axes>"
            ]
          },
          "metadata": {
            "tags": [],
            "needs_background": "light"
          }
        }
      ]
    }
  ]
}